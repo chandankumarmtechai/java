{
 "cells": [
  {
   "cell_type": "markdown",
   "metadata": {},
   "source": [
    "# Map implemented Classes and differences among them\n",
    "properties\n",
    "- Underlying data structure is Hashtable\n",
    "- duplicates key not allwed, duplicates values allowed\n",
    "- Hetrogenous elements allowed\n",
    "- null allowed as key only once, multiple times as value\n",
    "- implements Serializable, Clonable\n",
    "- useful when frequent opeartion is search\n",
    "Collection view of Map\n",
    "- Set keySet()\n",
    "- Collection values()\n",
    "- Set entrySet()\n",
    "\n",
    "Methods\n",
    "- put(Object key, Object value) to add and replace\n",
    "- remove(Object key)\n",
    "\n",
    "Methods for entrySet\n",
    "- getKey()\n",
    "- getValue()\n",
    "- setValue(Object value)"
   ]
  },
  {
   "cell_type": "markdown",
   "metadata": {},
   "source": [
    "## HashMap class\n",
    "Constructors\n",
    "- HashMap map = new HashMap()  // default capacity is 16, load factor is .75\n",
    "- HashMap map = new HashMap(int initialcapacity)\n",
    "- HashMap map = new HashMap(int initialcapacity, float loadfactor)\n",
    "- HashMap map = new HashMap(Map m)"
   ]
  },
  {
   "cell_type": "markdown",
   "metadata": {},
   "source": [
    "```java\n",
    "import java.util.*;\n",
    "\n",
    "public class HashMapTest\n",
    "{\n",
    "\tpublic static void main(String a[])\n",
    "\t{\n",
    "\t\tHashMap map = new HashMap();\n",
    "\t\tSystem.out.println(map.isEmpty());// true\n",
    "\t\t\n",
    "\t\tmap.put(1,10);\n",
    "\t\tmap.put(2,20);\n",
    "\t\tSystem.out.println(map);//{1=10, 2=20}\n",
    "\t\tSystem.out.println(map.put(2,25));//20\n",
    "\t\tSystem.out.println(map);//{1=10, 2=25}\n",
    "\t\t\n",
    "\t\tmap.put(3,30);\n",
    "\t\tmap.put(4,40);\n",
    "\t\tmap.remove(2);\n",
    "\t\tSystem.out.println(map);//{1=10, 3=30, 4=40}\n",
    "\t\t\n",
    "\t\tSystem.out.println(map.keySet());//[1,3,4]\n",
    "\t\tSystem.out.println(map.values());//[10,30,40]\n",
    "\t\t\n",
    "\t\tSet set = map.entrySet();\n",
    "\t\tIterator itr = set.iterator();\n",
    "\t\t\n",
    "\t\twhile(itr.hasNext())\n",
    "\t\t{\n",
    "\t\t\tMap.Entry me = (Map.Entry)itr.next();\n",
    "\t\t\tSystem.out.print(me.getKey() + \" -> \");\n",
    "\t\t\tSystem.out.println(me.getValue());\t\n",
    "\t\t}\n",
    "\t}\n",
    "}\n",
    "```"
   ]
  },
  {
   "cell_type": "markdown",
   "metadata": {},
   "source": [
    "## LinkedHashMap class\n",
    "- underlying data structure is Hashtable + LinkedList\n",
    "- insertion order preserved\n",
    "- these differences from HashMap"
   ]
  },
  {
   "cell_type": "markdown",
   "metadata": {},
   "source": [
    "```java\n",
    "import java.util.*;\n",
    "\n",
    "public class LinkedHashMapTest\n",
    "{\n",
    "\tpublic static void main(String a[])\n",
    "\t{\n",
    "\t\tLinkedHashMap map = new LinkedHashMap();\n",
    "\t\tSystem.out.println(map.isEmpty());//true\n",
    "\t\tmap.put(1,10);\n",
    "\t\tmap.put(2,20);\n",
    "\t\tmap.put(5,5);\n",
    "\t\tmap.put(6,50);\n",
    "\t\tSystem.out.println(map);//{1=10, 2=20, 5=5, 6=50}\n",
    "\t}\n",
    "}\n",
    "```"
   ]
  },
  {
   "cell_type": "markdown",
   "metadata": {},
   "source": [
    "## IdentityHashMap class\n",
    "- difference in handling duplicates elements"
   ]
  },
  {
   "cell_type": "markdown",
   "metadata": {},
   "source": [
    "```java\n",
    "import java.util.*;\n",
    "public class IdentityHashMapTest\n",
    "{\n",
    "\tpublic static void main(String a[])\n",
    "\t{\n",
    "\t\t//How HashMap handle duplicate key, uses equals() to check duplicate\n",
    "\t\tHashMap map = new HashMap();\n",
    "\t\tInteger i1 = new Integer(1);\n",
    "\t\tInteger i2 = new Integer(1);\n",
    "\t\tmap.put(i1,10);\n",
    "\t\tmap.put(2,20);\n",
    "\t\tmap.put(3,30);\n",
    "\t\tSystem.out.println(map);//{1=10, 2=20, 3=30}\n",
    "\t\tmap.put(i2,100);\n",
    "\t\tSystem.out.println(map);//{1=100, 2=20, 3=30}\n",
    "\t\t\n",
    "\t\t//How IdentityHashMap handle duplicate key, use == to check duplicates\n",
    "\t\tIdentityHashMap imap = new IdentityHashMap();\n",
    "\t\timap.put(i1,10);\n",
    "\t\timap.put(2,20);\n",
    "\t\timap.put(3,30);\n",
    "\t\tSystem.out.println(imap);//{2=20, 1=10, 3=30}\n",
    "\t\timap.put(i2,100);\n",
    "\t\tSystem.out.println(imap);//{2=20, 1=100, 1=10, 3=30}\n",
    "\t} \n",
    "}\n",
    "```"
   ]
  },
  {
   "cell_type": "markdown",
   "metadata": {},
   "source": [
    "## WeakHashMap class"
   ]
  },
  {
   "cell_type": "markdown",
   "metadata": {},
   "source": [
    "```java\n",
    "import java.util.*;\n",
    "\n",
    "class Temp\n",
    "{\n",
    "\tpublic String toString()\n",
    "\t{\n",
    "\t\treturn \"temp\";\n",
    "\t}\n",
    "\t\n",
    "\tpublic void finalize()\n",
    "\t{\n",
    "\t\tSystem.out.println(\"finalize called\");\n",
    "\t}\n",
    "}\n",
    "\n",
    "public class WeakHashMapTest\n",
    "{\n",
    "\t//HashMap\n",
    "\tpublic static void main(String a[]) throws Exception\n",
    "\t{\n",
    "\t\tTemp t1 = new Temp();\n",
    "\t\tHashMap map = new HashMap();\n",
    "\t\tmap.put(t1,10);\n",
    "\t\tSystem.out.println(map);\n",
    "\t\tt1=null;\n",
    "\t\tSystem.gc();\n",
    "\t\tThread.sleep(5000);\n",
    "\t\tSystem.out.println(map);\n",
    "\t\t\n",
    "\t\t//WeakHashMap\n",
    "\t\tTemp t2 = new Temp();\n",
    "\t\tWeakHashMap map2 = new WeakHashMap();\n",
    "\t\tmap2.put(t2,10);\n",
    "\t\tSystem.out.println(map2);\n",
    "\t\tt2=null;\n",
    "\t\tSystem.gc();\n",
    "\t\tThread.sleep(5000);\n",
    "\t\tSystem.out.println(map2);\n",
    "\t\t\n",
    "\t}\n",
    "\t\n",
    "}\n",
    "```"
   ]
  },
  {
   "cell_type": "markdown",
   "metadata": {},
   "source": [
    "## Hashtable class\n",
    "properties\n",
    "- Underlying data structure is Hashtable\n",
    "- duplicates are allowed\n",
    "- hetrogenous allowed\n",
    "- implements Serializable, Clonable\n",
    "- Synchronized\n",
    "\n",
    "Constructors\n",
    "- Hashtable table = new Hashtable()\n",
    "- Hashtable table = new Hashtable(int initialcapacity)\n",
    "- Hashtable table = new Hashtable(int initialcapacity, float fillratio)\n",
    "- Hashtable table = new Hashtable(Map m)"
   ]
  },
  {
   "cell_type": "code",
   "execution_count": null,
   "metadata": {},
   "outputs": [],
   "source": []
  }
 ],
 "metadata": {
  "kernelspec": {
   "display_name": "Python 3 (ipykernel)",
   "language": "python",
   "name": "python3"
  },
  "language_info": {
   "codemirror_mode": {
    "name": "ipython",
    "version": 3
   },
   "file_extension": ".py",
   "mimetype": "text/x-python",
   "name": "python",
   "nbconvert_exporter": "python",
   "pygments_lexer": "ipython3",
   "version": "3.10.1"
  }
 },
 "nbformat": 4,
 "nbformat_minor": 4
}
