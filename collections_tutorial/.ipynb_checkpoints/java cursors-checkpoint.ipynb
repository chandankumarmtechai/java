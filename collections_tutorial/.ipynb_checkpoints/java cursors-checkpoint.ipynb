{
 "cells": [
  {
   "cell_type": "markdown",
   "metadata": {},
   "source": [
    "# cursors in java\n",
    "- Enumeration\n",
    "- Iterator\n",
    "- ListIterator"
   ]
  },
  {
   "cell_type": "markdown",
   "metadata": {},
   "source": [
    "## Enumeration cursor\n",
    "It came in 1.0v. It works only for Vector class\n"
   ]
  },
  {
   "cell_type": "markdown",
   "metadata": {},
   "source": [
    "```java\n",
    "\n",
    "import java.util.*;\n",
    "\n",
    "public class EnumerationCursorTest\n",
    "{\n",
    "\tpublic static void main(String a[])\n",
    "\t{\n",
    "\t\tVector v = new Vector();\n",
    "\t\tfor(int i=0; i<10; i++)\n",
    "\t\t\tv.add(i);\n",
    "\t\t\n",
    "\t\tEnumeration e = v.elements();\n",
    "\t\t\n",
    "\t\twhile(e.hasMoreElements())\n",
    "\t\t{\n",
    "\t\t\tSystem.out.println(e.nextElement());\n",
    "\t\t}\n",
    "\t}\n",
    "}\n",
    "```"
   ]
  },
  {
   "cell_type": "markdown",
   "metadata": {},
   "source": [
    "## Iterator Cursor\n",
    "- Universal Cursor , Applicable on any collection object\n",
    "- hasNext()\n",
    "- next()\n",
    "- remove()"
   ]
  },
  {
   "cell_type": "markdown",
   "metadata": {},
   "source": [
    "```java\n",
    "import java.util.*;\n",
    "\n",
    "public class IteratorCursor\n",
    "{\n",
    "\tpublic static void main(String a[])\n",
    "\t{\n",
    "\t\tList<Integer> list = new ArrayList<Integer>();\n",
    "\t\tfor(int i=0; i<10; i++)\n",
    "\t\t\tlist.add(new Integer(i));\n",
    "\t\t\n",
    "\t\tSystem.out.println(list);//[0, 1, 2, 3, 4, 5, 6, 7, 8, 9]\n",
    "\t\t\n",
    "\t\tIterator itr = list.iterator();\n",
    "\t\t\n",
    "\t\twhile(itr.hasNext())\n",
    "\t\t{\n",
    "\t\t\tif((int)itr.next() % 2 == 0)\n",
    "\t\t\t\titr.remove();\n",
    "\t\t}\n",
    "\t\t\n",
    "\t\tSystem.out.println(list);//[1, 3, 5, 7, 9]\n",
    "\t}\n",
    "}\n",
    "```"
   ]
  },
  {
   "cell_type": "markdown",
   "metadata": {},
   "source": [
    "## ListIterator cursor\n",
    "- extends Iterator\n",
    "- bidirectional\n",
    "- read\n",
    "- remove\n",
    "- replace\n",
    "- add new \n",
    "\n",
    "methods\n",
    "- hasNext(), next(), nextIndex()\n",
    "- hasPrevious(), previous(), previousIndex()\n",
    "- remove(), set(Object o), add(Object o)"
   ]
  },
  {
   "cell_type": "markdown",
   "metadata": {},
   "source": [
    "```java\n",
    "import java.util.*;\n",
    "\n",
    "public class ListIteratorCursor\n",
    "{\n",
    "\tpublic static void main(String a[])\n",
    "\t{\n",
    "\t\tList<Integer> list = new ArrayList<Integer>();\n",
    "\t\tlist.add(10);\n",
    "\t\tlist.add(20);\n",
    "\t\tlist.add(30);\n",
    "\t\tSystem.out.println(list);//[10,20,30]\n",
    "\t\t\n",
    "\t\tListIterator itr = list.listIterator();\n",
    "\t\t\n",
    "\t\twhile(itr.hasNext())\n",
    "\t\t{\n",
    "\t\t\titr.add((int)itr.next() + 5);\n",
    "\t\t}\n",
    "\t\t\n",
    "\t\tSystem.out.println(list);//[10,15,20,25,30,35]\n",
    "\t\t\n",
    "\t\tListIterator ltr = list.listIterator();\n",
    "\t\twhile(ltr.hasNext())\n",
    "\t\t{\n",
    "\t\t\tif((int)ltr.next() %10 ==0)\n",
    "\t\t\t{\n",
    "\t\t\t\tltr.remove();\n",
    "\t\t\t}\n",
    "\t\t\telse\n",
    "\t\t\t{\n",
    "\t\t\t\tltr.previous();\n",
    "\t\t\t\tltr.set((int)ltr.next() %10);\n",
    "\t\t\t}\n",
    "\t\t}\n",
    "\t\t\n",
    "\t\tSystem.out.println(list);//[5,5,5]\n",
    "\t}\n",
    "}\n",
    "```"
   ]
  },
  {
   "cell_type": "markdown",
   "metadata": {},
   "source": [
    "## Comparable interface\n",
    "- Sorted collection and sorted map implement Comparable interface\n",
    "- Comparable interface provides default sorting order\n",
    "- CompareTo() method\n",
    "  - obj1.compareTo(obj2) return -ve if obj1 < obj2\n",
    "  - returns +ve if if obj1 > obj2\n",
    "  - return 0 , otherwise"
   ]
  },
  {
   "cell_type": "markdown",
   "metadata": {},
   "source": [
    "## Comparator interface\n",
    "- int compare(object obj1, Object obj2)\n",
    "- boolean equals(Object obj)"
   ]
  },
  {
   "cell_type": "markdown",
   "metadata": {},
   "source": [
    "```java\n",
    "import java.util.*;\n",
    "\n",
    "class MyComparator implements Comparator\n",
    "{\n",
    "\tpublic int compare(Object obj1, Object obj2)\n",
    "\t{\n",
    "\t\treturn 1;// make insertion oreder preserved with duplicates allowed\n",
    "\t\t// return -1; reverse insertion order\n",
    "\t\t//return 0; element not inserted\n",
    "\t}\n",
    "}\n",
    "\n",
    "public class ComparatorTest\n",
    "{\n",
    "\tpublic static void main(String a[])\n",
    "\t{\n",
    "\t\tMyComparator comp = new MyComparator();\n",
    "\t\tTreeSet set = new TreeSet(comp);\n",
    "\t\t\n",
    "\t\tset.add(10);\n",
    "\t\tset.add(5);\n",
    "\t\tset.add(25);\n",
    "\t\tset.add(15);\n",
    "\t\t\n",
    "\t\tSystem.out.println(set);\n",
    "\t}\n",
    "}\n",
    "```"
   ]
  },
  {
   "cell_type": "code",
   "execution_count": null,
   "metadata": {},
   "outputs": [],
   "source": []
  }
 ],
 "metadata": {
  "kernelspec": {
   "display_name": "Python 3 (ipykernel)",
   "language": "python",
   "name": "python3"
  },
  "language_info": {
   "codemirror_mode": {
    "name": "ipython",
    "version": 3
   },
   "file_extension": ".py",
   "mimetype": "text/x-python",
   "name": "python",
   "nbconvert_exporter": "python",
   "pygments_lexer": "ipython3",
   "version": "3.10.1"
  }
 },
 "nbformat": 4,
 "nbformat_minor": 4
}
