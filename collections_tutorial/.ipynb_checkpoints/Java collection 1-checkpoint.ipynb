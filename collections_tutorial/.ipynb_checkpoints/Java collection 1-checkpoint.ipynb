{
 "cells": [
  {
   "cell_type": "markdown",
   "metadata": {},
   "source": [
    "# Collections framework in java\n",
    "\n",
    "- Before Collection Framework(or before JDK 1.2) was introduced, the standard methods for grouping Java objects (or   collections) were Arrays or Vectors or Hashtables. All of these collections had no common interface.\n",
    "- Arrays are fixed in size\n",
    "- Collection can contains object only as element , not primitives\n",
    "- Most of the time collection allow hetrogenous elements, java Generics introduced later\n",
    "\n"
   ]
  },
  {
   "cell_type": "markdown",
   "metadata": {},
   "source": [
    "<img src=\"./images/Java-Collections-Hierarchy-1.png\" width=\"600\" height=\"700\"/>\n"
   ]
  },
  {
   "cell_type": "markdown",
   "metadata": {},
   "source": [
    "## Collection Interface methods\n",
    "- add(Object)\n",
    "- addAll(Collection c)\n",
    "- clear()\n",
    "- contains(Object o)\n",
    "- containsAll(Collection c)\n",
    "- equals(Object o)\n",
    "- hashCode()\n",
    "- isEmpty()\n",
    "- iterator()\n",
    "- max()\n",
    "- parallelStream()\n",
    "- remove(Object o)\n",
    "- removeAll(Collection c)\n",
    "- removeIf(Predicate filter)\n",
    "- retainAll(Collection c)\n",
    "- size()\n",
    "- spliterator()\n",
    "- stream()\n",
    "- toArray()\n",
    " "
   ]
  },
  {
   "cell_type": "markdown",
   "metadata": {},
   "source": [
    "## List interface and its methods\n",
    "\n",
    "- Duplicates are allowed\n",
    "- Insertion order must be preserved\n",
    "- add(int index, Object o), addAll(int index, Collection c)\n",
    "- remove(int index), listIterator()\n",
    "- indexOf(Object o), lastIndexOf(Object o)\n",
    "- get(int index), set(int index, Object o)\n"
   ]
  },
  {
   "cell_type": "markdown",
   "metadata": {},
   "source": [
    "## Queue Interface and its methods\n",
    "- offer(Object o)\n",
    "- poll()\n",
    "- "
   ]
  },
  {
   "cell_type": "markdown",
   "metadata": {},
   "source": [
    "## Set interface and its methods"
   ]
  },
  {
   "cell_type": "markdown",
   "metadata": {},
   "source": [
    "## SortedSet interface and its method\n",
    "\n",
    "- first()\n",
    "- last()\n",
    "- headSet(object o)\n",
    "- tailSet(object o)\n",
    "- subSet(Object o, Object p)\n",
    "- comprator()"
   ]
  },
  {
   "cell_type": "code",
   "execution_count": null,
   "metadata": {},
   "outputs": [],
   "source": []
  }
 ],
 "metadata": {
  "kernelspec": {
   "display_name": "Python 3",
   "language": "python",
   "name": "python3"
  },
  "language_info": {
   "codemirror_mode": {
    "name": "ipython",
    "version": 3
   },
   "file_extension": ".py",
   "mimetype": "text/x-python",
   "name": "python",
   "nbconvert_exporter": "python",
   "pygments_lexer": "ipython3",
   "version": "3.7.7"
  }
 },
 "nbformat": 4,
 "nbformat_minor": 4
}
