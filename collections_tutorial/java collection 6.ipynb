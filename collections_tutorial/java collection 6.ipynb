{
 "cells": [
  {
   "cell_type": "markdown",
   "metadata": {},
   "source": [
    "# Set implemented Classes and differences among them"
   ]
  },
  {
   "cell_type": "markdown",
   "metadata": {},
   "source": [
    "## HashSet class\n",
    "properties\n",
    "- underlying data structure is Hashtable\n",
    "- duplicates not allowed\n",
    "- insertion order not preserved\n",
    "- hetrogenous objects allowed\n",
    "- null allowed only once\n",
    "- implements Serializable, Clonable\n",
    "- best suited for search operation\n",
    "\n",
    "Constructors\n",
    "- HashSet set = new HashSet()\n",
    "- HashSet set = new HashSet(int initialcapacity)\n",
    "- HashSet set = new HashSet(int initialcapacity, float loadfactor)\n",
    "- HashSet set = new HashSet(Collection c)"
   ]
  },
  {
   "cell_type": "markdown",
   "metadata": {},
   "source": [
    "```java\n",
    "import java.util.*;\n",
    "\n",
    "public class HashSetTest\n",
    "{\n",
    "\tpublic static Set union(Set a, Set b)\n",
    "\t{\n",
    "\t\tHashSet s = new HashSet(a);\n",
    "\t\ts.addAll(b);\n",
    "\t\treturn s;\n",
    "\t}\n",
    "\t\n",
    "\tpublic static Set intersection(Set a, Set b)\n",
    "\t{\n",
    "\t\tHashSet s = new HashSet(a);\n",
    "\t\ts.retainAll(b);\n",
    "\t\treturn s;\n",
    "\t}\n",
    "\t\n",
    "\tpublic static Set difference(Set a, Set b)\n",
    "\t{\n",
    "\t\tHashSet s = new HashSet(a);\n",
    "\t\ts.removeAll(b);\n",
    "\t\treturn s;\n",
    "\t}\n",
    "\t\n",
    "\tpublic static void main(String a[])\n",
    "\t{\n",
    "\t\tHashSet set1 = new HashSet(Arrays.asList(new Integer[] {1,2,3,4}));\n",
    "\t\tHashSet set2 = new HashSet(Arrays.asList(new Integer[] {4,5,6,7}));\n",
    "\t\tSet result = union(set1, set2);\n",
    "\t\t\n",
    "\t\tSystem.out.println(set1);\n",
    "\t\tSystem.out.println(set2);\n",
    "\t\tSystem.out.println(result);//[1,2,3,4,5,6,7]\n",
    "\t\tresult = intersection(set1, set2);\n",
    "\t\tSystem.out.println(result);//[4]\n",
    "\t\tresult = difference(set1, set2);\n",
    "\t\tSystem.out.println(result);//[1,2,3]\n",
    "\t}\n",
    "}\n",
    "```"
   ]
  },
  {
   "cell_type": "markdown",
   "metadata": {},
   "source": [
    "## LinkedHashSet class\n",
    "- underlying data structure is Hashtable+LinkedList\n",
    "- insertion order preserved\n",
    "- rest of same as HashSet\n",
    "- used in cache needed application"
   ]
  },
  {
   "cell_type": "markdown",
   "metadata": {},
   "source": [
    "```java\n",
    "import java.util.*;\n",
    "\n",
    "public class LinkedHashSetTest\n",
    "{\n",
    "\tpublic static void main(String a[])\n",
    "\t{\n",
    "\t\tLinkedHashSet set = new LinkedHashSet();\n",
    "\t\tSystem.out.println(set.isEmpty());//true\n",
    "\t\tset.add(10);\n",
    "\t\tset.add(20);\n",
    "\t\tset.add(30);\n",
    "\t\tset.add(10);\n",
    "\t\tSystem.out.println(set);//[10,20,30]\n",
    "\t}\n",
    "}\n",
    "```"
   ]
  },
  {
   "cell_type": "markdown",
   "metadata": {},
   "source": [
    "## TreeSet class\n",
    "properties \n",
    "- underlying data structure is balanced tree\n",
    "- duplicates not allowed\n",
    "- insertion order not preserved\n",
    "- homogenous elements allowed, condition apply\n",
    "- null allowed only once and only element\n",
    "\n",
    "Constructors\n",
    "- TreeSet set = new TreeSet()\n",
    "- TreeSet set = new TreeSet(Comparator c)\n",
    "- TreeSet set = new TreeSet(Collection c)\n",
    "- TreeSet set = new TreeSet(SortedSet s)"
   ]
  },
  {
   "cell_type": "markdown",
   "metadata": {},
   "source": [
    "```java\n",
    "import java.util.*;\n",
    "\n",
    "public class TreeSetTest\n",
    "{\n",
    "\tpublic static void main(String a[])\n",
    "\t{\n",
    "\t\tTreeSet set = new TreeSet();\n",
    "\t\tset.addAll(Arrays.asList(new Integer[]{5,4,3,2,1}));\n",
    "\t\tSystem.out.println(set);//[1,2,3,4,5]\n",
    "\t\tSystem.out.println(set.comparator());//null\n",
    "\t}\n",
    "}\n",
    "```"
   ]
  },
  {
   "cell_type": "markdown",
   "metadata": {},
   "source": [
    "```java\n",
    "import java.util.*;\n",
    "\n",
    "class MyComparator implements Comparator\n",
    "{\n",
    "\tpublic int compare(Object obj1, Object obj2)\n",
    "\t{\n",
    "\t\treturn 1;// make insertion oreder preserved with duplicates allowed\n",
    "\t\t// return -1; reverse insertion order\n",
    "\t\t//return 0; element not inserted\n",
    "\t}\n",
    "}\n",
    "\n",
    "public class ComparatorTest\n",
    "{\n",
    "\tpublic static void main(String a[])\n",
    "\t{\n",
    "\t\tMyComparator comp = new MyComparator();\n",
    "\t\tTreeSet set = new TreeSet(comp);\n",
    "\t\t\n",
    "\t\tset.add(10);\n",
    "\t\tset.add(5);\n",
    "\t\tset.add(25);\n",
    "\t\tset.add(15);\n",
    "\t\t\n",
    "\t\tSystem.out.println(set);//[10,5,25,15]\n",
    "\t}\n",
    "}\n",
    "```"
   ]
  },
  {
   "cell_type": "code",
   "execution_count": null,
   "metadata": {},
   "outputs": [],
   "source": []
  }
 ],
 "metadata": {
  "kernelspec": {
   "display_name": "Python 3",
   "language": "python",
   "name": "python3"
  },
  "language_info": {
   "codemirror_mode": {
    "name": "ipython",
    "version": 3
   },
   "file_extension": ".py",
   "mimetype": "text/x-python",
   "name": "python",
   "nbconvert_exporter": "python",
   "pygments_lexer": "ipython3",
   "version": "3.7.7"
  }
 },
 "nbformat": 4,
 "nbformat_minor": 4
}
